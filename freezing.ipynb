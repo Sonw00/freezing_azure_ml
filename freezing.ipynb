{
  "cells": [
    {
      "cell_type": "code",
      "source": [
        "import pandas as pd"
      ],
      "outputs": [],
      "execution_count": 1,
      "metadata": {
        "gather": {
          "logged": 1736243385515
        }
      }
    },
    {
      "cell_type": "code",
      "source": [
        "import pymysql\n",
        "import numpy as np"
      ],
      "outputs": [],
      "execution_count": 3,
      "metadata": {
        "jupyter": {
          "source_hidden": false,
          "outputs_hidden": false
        },
        "nteract": {
          "transient": {
            "deleting": false
          }
        },
        "gather": {
          "logged": 1736243392157
        }
      }
    },
    {
      "cell_type": "code",
      "source": [
        "freezing = pd.DataFrame(columns=['num', 'GRID_X', 'GRID_Y', 'FCST_TM', 'ICE_state'])"
      ],
      "outputs": [],
      "execution_count": 5,
      "metadata": {
        "jupyter": {
          "source_hidden": false,
          "outputs_hidden": false
        },
        "nteract": {
          "transient": {
            "deleting": false
          }
        },
        "gather": {
          "logged": 1736243829153
        }
      }
    },
    {
      "cell_type": "code",
      "source": [],
      "outputs": [],
      "execution_count": null,
      "metadata": {
        "jupyter": {
          "source_hidden": false,
          "outputs_hidden": false
        },
        "nteract": {
          "transient": {
            "deleting": false
          }
        }
      }
    },
    {
      "cell_type": "code",
      "source": [
        "# MySQL 연결\n",
        "connection = pymysql.connect(\n",
        "    host='freeze-db.mysql.database.azure.com',\n",
        "    user='human',\n",
        "    password='Human123456',\n",
        "    database='freezedb'\n",
        ")\n",
        "\n",
        "# 쿼리 실행 및 배치 크기 설정\n",
        "query = \"SELECT * FROM freezing\"\n",
        "batch_size = 1000  # 한 번에 처리할 행 개수\n",
        "\n",
        "# 배치 단위로 데이터를 가져오고 처리\n",
        "with connection.cursor() as cursor:\n",
        "    cursor.execute(query)\n",
        "    while True:\n",
        "        rows = cursor.fetchmany(batch_size)\n",
        "        if not rows:  # 가져올 데이터가 없으면 중단\n",
        "            break\n",
        "        \n",
        "        # 데이터를 DataFrame으로 변환\n",
        "        data = pd.DataFrame(rows, columns=[col[0] for col in cursor.description])\n",
        "        \n",
        "        # freezing DataFrame에 합치기\n",
        "        freezing = pd.concat([freezing,data])\n",
        "\n",
        "connection.close()"
      ],
      "outputs": [],
      "execution_count": 6,
      "metadata": {
        "jupyter": {
          "source_hidden": false,
          "outputs_hidden": false
        },
        "nteract": {
          "transient": {
            "deleting": false
          }
        },
        "gather": {
          "logged": 1736246839563
        }
      }
    },
    {
      "cell_type": "code",
      "source": [
        "freezing.info()"
      ],
      "outputs": [
        {
          "output_type": "stream",
          "name": "stdout",
          "text": "<class 'pandas.core.frame.DataFrame'>\nInt64Index: 6595992 entries, 0 to 991\nData columns (total 5 columns):\n #   Column     Dtype \n---  ------     ----- \n 0   num        object\n 1   GRID_X     object\n 2   GRID_Y     object\n 3   FCST_TM    object\n 4   ICE_state  object\ndtypes: object(5)\nmemory usage: 301.9+ MB\n"
        }
      ],
      "execution_count": 7,
      "metadata": {
        "jupyter": {
          "source_hidden": false,
          "outputs_hidden": false
        },
        "nteract": {
          "transient": {
            "deleting": false
          }
        },
        "gather": {
          "logged": 1736247441512
        }
      }
    },
    {
      "cell_type": "code",
      "source": [
        "freezing.head()"
      ],
      "outputs": [
        {
          "output_type": "execute_result",
          "execution_count": 8,
          "data": {
            "text/plain": "  num      GRID_X     GRID_Y              FCST_TM      ICE_state\n0   0  126.700114  37.191712  2023-01-01 00:00:00  Freezing_poss\n1   1  126.700266  37.205535  2023-01-01 00:00:00  Freezing_poss\n2   2  126.700417  37.219358  2023-01-01 00:00:00  Freezing_poss\n3   3  126.700569  37.233181  2023-01-01 00:00:00  Freezing_poss\n4   4  126.700721  37.247005  2023-01-01 00:00:00  Freezing_poss",
            "text/html": "<div>\n<style scoped>\n    .dataframe tbody tr th:only-of-type {\n        vertical-align: middle;\n    }\n\n    .dataframe tbody tr th {\n        vertical-align: top;\n    }\n\n    .dataframe thead th {\n        text-align: right;\n    }\n</style>\n<table border=\"1\" class=\"dataframe\">\n  <thead>\n    <tr style=\"text-align: right;\">\n      <th></th>\n      <th>num</th>\n      <th>GRID_X</th>\n      <th>GRID_Y</th>\n      <th>FCST_TM</th>\n      <th>ICE_state</th>\n    </tr>\n  </thead>\n  <tbody>\n    <tr>\n      <th>0</th>\n      <td>0</td>\n      <td>126.700114</td>\n      <td>37.191712</td>\n      <td>2023-01-01 00:00:00</td>\n      <td>Freezing_poss</td>\n    </tr>\n    <tr>\n      <th>1</th>\n      <td>1</td>\n      <td>126.700266</td>\n      <td>37.205535</td>\n      <td>2023-01-01 00:00:00</td>\n      <td>Freezing_poss</td>\n    </tr>\n    <tr>\n      <th>2</th>\n      <td>2</td>\n      <td>126.700417</td>\n      <td>37.219358</td>\n      <td>2023-01-01 00:00:00</td>\n      <td>Freezing_poss</td>\n    </tr>\n    <tr>\n      <th>3</th>\n      <td>3</td>\n      <td>126.700569</td>\n      <td>37.233181</td>\n      <td>2023-01-01 00:00:00</td>\n      <td>Freezing_poss</td>\n    </tr>\n    <tr>\n      <th>4</th>\n      <td>4</td>\n      <td>126.700721</td>\n      <td>37.247005</td>\n      <td>2023-01-01 00:00:00</td>\n      <td>Freezing_poss</td>\n    </tr>\n  </tbody>\n</table>\n</div>"
          },
          "metadata": {}
        }
      ],
      "execution_count": 8,
      "metadata": {
        "jupyter": {
          "source_hidden": false,
          "outputs_hidden": false
        },
        "nteract": {
          "transient": {
            "deleting": false
          }
        },
        "gather": {
          "logged": 1736247478517
        }
      }
    },
    {
      "cell_type": "code",
      "source": [
        "import os"
      ],
      "outputs": [],
      "execution_count": 9,
      "metadata": {
        "jupyter": {
          "source_hidden": false,
          "outputs_hidden": false
        },
        "nteract": {
          "transient": {
            "deleting": false
          }
        },
        "gather": {
          "logged": 1736247574275
        }
      }
    },
    {
      "cell_type": "code",
      "source": [
        "print(os.getcwd())"
      ],
      "outputs": [
        {
          "output_type": "stream",
          "name": "stdout",
          "text": "/mnt/batch/tasks/shared/LS_root/mounts/clusters/freezing/code/Users/tmxhs85\n"
        }
      ],
      "execution_count": 10,
      "metadata": {
        "jupyter": {
          "source_hidden": false,
          "outputs_hidden": false
        },
        "nteract": {
          "transient": {
            "deleting": false
          }
        },
        "gather": {
          "logged": 1736247578953
        }
      }
    },
    {
      "cell_type": "code",
      "source": [
        "freezing.to_csv('/mnt/batch/tasks/shared/LS_root/mounts/clusters/freezing/code/Users/tmxhs85/freezing_df.csv',index=None)"
      ],
      "outputs": [],
      "execution_count": 15,
      "metadata": {
        "jupyter": {
          "source_hidden": false,
          "outputs_hidden": false
        },
        "nteract": {
          "transient": {
            "deleting": false
          }
        },
        "gather": {
          "logged": 1736247828014
        }
      }
    },
    {
      "cell_type": "code",
      "source": [
        "dff = pd.read_csv('/mnt/batch/tasks/shared/LS_root/mounts/clusters/freezing/code/Users/tmxhs85/freezing_df.csv')"
      ],
      "outputs": [],
      "execution_count": 16,
      "metadata": {
        "jupyter": {
          "source_hidden": false,
          "outputs_hidden": false
        },
        "nteract": {
          "transient": {
            "deleting": false
          }
        },
        "gather": {
          "logged": 1736247837477
        }
      }
    },
    {
      "cell_type": "code",
      "source": [
        "dff.info()"
      ],
      "outputs": [
        {
          "output_type": "stream",
          "name": "stdout",
          "text": "<class 'pandas.core.frame.DataFrame'>\nRangeIndex: 6595992 entries, 0 to 6595991\nData columns (total 5 columns):\n #   Column     Dtype  \n---  ------     -----  \n 0   num        int64  \n 1   GRID_X     float64\n 2   GRID_Y     float64\n 3   FCST_TM    object \n 4   ICE_state  object \ndtypes: float64(2), int64(1), object(2)\nmemory usage: 251.6+ MB\n"
        }
      ],
      "execution_count": 17,
      "metadata": {
        "jupyter": {
          "source_hidden": false,
          "outputs_hidden": false
        },
        "nteract": {
          "transient": {
            "deleting": false
          }
        },
        "gather": {
          "logged": 1736247839327
        }
      }
    },
    {
      "cell_type": "code",
      "source": [
        "dff.head()"
      ],
      "outputs": [
        {
          "output_type": "execute_result",
          "execution_count": 18,
          "data": {
            "text/plain": "   num      GRID_X     GRID_Y              FCST_TM      ICE_state\n0    0  126.700114  37.191712  2023-01-01 00:00:00  Freezing_poss\n1    1  126.700266  37.205535  2023-01-01 00:00:00  Freezing_poss\n2    2  126.700417  37.219358  2023-01-01 00:00:00  Freezing_poss\n3    3  126.700569  37.233181  2023-01-01 00:00:00  Freezing_poss\n4    4  126.700721  37.247005  2023-01-01 00:00:00  Freezing_poss",
            "text/html": "<div>\n<style scoped>\n    .dataframe tbody tr th:only-of-type {\n        vertical-align: middle;\n    }\n\n    .dataframe tbody tr th {\n        vertical-align: top;\n    }\n\n    .dataframe thead th {\n        text-align: right;\n    }\n</style>\n<table border=\"1\" class=\"dataframe\">\n  <thead>\n    <tr style=\"text-align: right;\">\n      <th></th>\n      <th>num</th>\n      <th>GRID_X</th>\n      <th>GRID_Y</th>\n      <th>FCST_TM</th>\n      <th>ICE_state</th>\n    </tr>\n  </thead>\n  <tbody>\n    <tr>\n      <th>0</th>\n      <td>0</td>\n      <td>126.700114</td>\n      <td>37.191712</td>\n      <td>2023-01-01 00:00:00</td>\n      <td>Freezing_poss</td>\n    </tr>\n    <tr>\n      <th>1</th>\n      <td>1</td>\n      <td>126.700266</td>\n      <td>37.205535</td>\n      <td>2023-01-01 00:00:00</td>\n      <td>Freezing_poss</td>\n    </tr>\n    <tr>\n      <th>2</th>\n      <td>2</td>\n      <td>126.700417</td>\n      <td>37.219358</td>\n      <td>2023-01-01 00:00:00</td>\n      <td>Freezing_poss</td>\n    </tr>\n    <tr>\n      <th>3</th>\n      <td>3</td>\n      <td>126.700569</td>\n      <td>37.233181</td>\n      <td>2023-01-01 00:00:00</td>\n      <td>Freezing_poss</td>\n    </tr>\n    <tr>\n      <th>4</th>\n      <td>4</td>\n      <td>126.700721</td>\n      <td>37.247005</td>\n      <td>2023-01-01 00:00:00</td>\n      <td>Freezing_poss</td>\n    </tr>\n  </tbody>\n</table>\n</div>"
          },
          "metadata": {}
        }
      ],
      "execution_count": 18,
      "metadata": {
        "jupyter": {
          "source_hidden": false,
          "outputs_hidden": false
        },
        "nteract": {
          "transient": {
            "deleting": false
          }
        },
        "gather": {
          "logged": 1736247852167
        }
      }
    },
    {
      "cell_type": "code",
      "source": [
        "dff.tail()"
      ],
      "outputs": [
        {
          "output_type": "execute_result",
          "execution_count": 19,
          "data": {
            "text/plain": "           num      GRID_X     GRID_Y              FCST_TM     ICE_state\n6595987  56371  127.498500  37.196805  2024-02-29 23:00:00  Non_Freezing\n6595988  56372  127.498825  37.210625  2024-02-29 23:00:00  Non_Freezing\n6595989  56373  127.499150  37.224447  2024-02-29 23:00:00  Non_Freezing\n6595990  56374  127.499475  37.238268  2024-02-29 23:00:00  Non_Freezing\n6595991  56375  127.499800  37.252091  2024-02-29 23:00:00  Non_Freezing",
            "text/html": "<div>\n<style scoped>\n    .dataframe tbody tr th:only-of-type {\n        vertical-align: middle;\n    }\n\n    .dataframe tbody tr th {\n        vertical-align: top;\n    }\n\n    .dataframe thead th {\n        text-align: right;\n    }\n</style>\n<table border=\"1\" class=\"dataframe\">\n  <thead>\n    <tr style=\"text-align: right;\">\n      <th></th>\n      <th>num</th>\n      <th>GRID_X</th>\n      <th>GRID_Y</th>\n      <th>FCST_TM</th>\n      <th>ICE_state</th>\n    </tr>\n  </thead>\n  <tbody>\n    <tr>\n      <th>6595987</th>\n      <td>56371</td>\n      <td>127.498500</td>\n      <td>37.196805</td>\n      <td>2024-02-29 23:00:00</td>\n      <td>Non_Freezing</td>\n    </tr>\n    <tr>\n      <th>6595988</th>\n      <td>56372</td>\n      <td>127.498825</td>\n      <td>37.210625</td>\n      <td>2024-02-29 23:00:00</td>\n      <td>Non_Freezing</td>\n    </tr>\n    <tr>\n      <th>6595989</th>\n      <td>56373</td>\n      <td>127.499150</td>\n      <td>37.224447</td>\n      <td>2024-02-29 23:00:00</td>\n      <td>Non_Freezing</td>\n    </tr>\n    <tr>\n      <th>6595990</th>\n      <td>56374</td>\n      <td>127.499475</td>\n      <td>37.238268</td>\n      <td>2024-02-29 23:00:00</td>\n      <td>Non_Freezing</td>\n    </tr>\n    <tr>\n      <th>6595991</th>\n      <td>56375</td>\n      <td>127.499800</td>\n      <td>37.252091</td>\n      <td>2024-02-29 23:00:00</td>\n      <td>Non_Freezing</td>\n    </tr>\n  </tbody>\n</table>\n</div>"
          },
          "metadata": {}
        }
      ],
      "execution_count": 19,
      "metadata": {
        "jupyter": {
          "source_hidden": false,
          "outputs_hidden": false
        },
        "nteract": {
          "transient": {
            "deleting": false
          }
        },
        "gather": {
          "logged": 1736247889771
        }
      }
    },
    {
      "cell_type": "code",
      "source": [],
      "outputs": [],
      "execution_count": null,
      "metadata": {
        "jupyter": {
          "source_hidden": false,
          "outputs_hidden": false
        },
        "nteract": {
          "transient": {
            "deleting": false
          }
        }
      }
    }
  ],
  "metadata": {
    "kernelspec": {
      "name": "python38-azureml",
      "language": "python",
      "display_name": "Python 3.8 - AzureML"
    },
    "language_info": {
      "name": "python",
      "version": "3.10.11",
      "mimetype": "text/x-python",
      "codemirror_mode": {
        "name": "ipython",
        "version": 3
      },
      "pygments_lexer": "ipython3",
      "nbconvert_exporter": "python",
      "file_extension": ".py"
    },
    "kernel_info": {
      "name": "python38-azureml"
    },
    "nteract": {
      "version": "nteract-front-end@1.0.0"
    },
    "microsoft": {
      "host": {
        "AzureML": {
          "notebookHasBeenCompleted": true
        }
      }
    }
  },
  "nbformat": 4,
  "nbformat_minor": 2
}